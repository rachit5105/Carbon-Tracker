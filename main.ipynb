{
 "cells": [
  {
   "cell_type": "markdown",
   "id": "a9fc4ff9",
   "metadata": {},
   "source": [
    "# **Carbon Tracker**"
   ]
  },
  {
   "cell_type": "code",
   "execution_count": null,
   "id": "3388151b",
   "metadata": {},
   "outputs": [],
   "source": [
    "# Import libraries\n",
    "import pandas as pd\n",
    "import numpy as np\n",
    "import matplotlib.pyplot as plt\n",
    "import seaborn as sns\n",
    "\n",
    "from sklearn.ensemble import RandomForestRegressor\n",
    "from sklearn.model_selection import train_test_split\n",
    "from sklearn.metrics import mean_squared_error, r2_score\n",
    "from sklearn.preprocessing import LabelEncoder\n"
   ]
  },
  {
   "cell_type": "code",
   "execution_count": null,
   "id": "62e75b5e",
   "metadata": {},
   "outputs": [],
   "source": [
    "# Load the dataset\n",
    "df = pd.read_csv(\"data source/india_carbon_dataset.csv\")\n",
    "df.shape  ## show no. row(data) & column(feature)"
   ]
  },
  {
   "cell_type": "code",
   "execution_count": null,
   "id": "44aceb61",
   "metadata": {},
   "outputs": [],
   "source": [
    "# show sum of NAN entity\n",
    "df.isnull().sum()"
   ]
  },
  {
   "cell_type": "code",
   "execution_count": null,
   "id": "4fc75a5b",
   "metadata": {},
   "outputs": [],
   "source": [
    "# show 1st five data from the database\n",
    "df.head()"
   ]
  },
  {
   "cell_type": "markdown",
   "id": "4f44c56b",
   "metadata": {},
   "source": [
    "## Train Model : Rendom Forest (Regression)"
   ]
  },
  {
   "cell_type": "code",
   "execution_count": null,
   "id": "1ca9b5ed",
   "metadata": {},
   "outputs": [],
   "source": [
    "# features and target\n",
    "features = ['temperature', 'travel_km', 'electricity_units', 'food_impact',\n",
    "            'waste_kg', 'construction_score', 'agriculture_score',\n",
    "            'lifestyle_score']\n",
    "target = 'co2_emission_kg'\n",
    "\n",
    "x = df[features]\n",
    "y = df[target]"
   ]
  },
  {
   "cell_type": "code",
   "execution_count": null,
   "id": "2b5e421d",
   "metadata": {},
   "outputs": [],
   "source": [
    "# Split data into train and test sets\n",
    "X_train, X_test, y_train, y_test = train_test_split(x, y, test_size=0.2, random_state=42)\n"
   ]
  },
  {
   "cell_type": "code",
   "execution_count": null,
   "id": "b2ed9aec",
   "metadata": {},
   "outputs": [],
   "source": [
    "# Train a Random Forest Regressor\n",
    "model = RandomForestRegressor(n_estimators=100, random_state=42)\n",
    "model.fit(X_train, y_train)"
   ]
  },
  {
   "cell_type": "code",
   "execution_count": null,
   "id": "e453cbe7",
   "metadata": {},
   "outputs": [],
   "source": [
    "# Evaluate the model\n",
    "y_pred = model.predict(X_test)\n",
    "mse = mean_squared_error(y_test, y_pred)\n",
    "r2 = r2_score(y_test, y_pred)\n",
    "\n",
    "print(f\"Mean Squared Error: {mse:.2f}\")\n",
    "print(f\"R² Score: {r2:.2f}\")\n"
   ]
  },
  {
   "cell_type": "markdown",
   "id": "4cb62194",
   "metadata": {},
   "source": [
    "### Plot"
   ]
  },
  {
   "cell_type": "code",
   "execution_count": null,
   "id": "689630d4",
   "metadata": {},
   "outputs": [],
   "source": [
    "# Feature importance as a column chart (vertical bars)\n",
    "importances = model.feature_importances_\n",
    "feature_names = x.columns\n",
    "\n",
    "plt.figure(figsize=(10, 6))\n",
    "sns.barplot(x=feature_names, y=importances)  # Swap x and y\n",
    "plt.title(\"Feature Importance in CO₂ Emission Prediction\")\n",
    "plt.xlabel(\"Feature\")\n",
    "plt.ylabel(\"Importance\")\n",
    "plt.xticks(rotation=45)\n",
    "plt.grid(True)\n",
    "plt.tight_layout()\n",
    "plt.show()\n"
   ]
  },
  {
   "cell_type": "markdown",
   "id": "ba9b895a",
   "metadata": {},
   "source": [
    "# Horizontal Stacked Bar Chart: CO₂ by Fuel Type"
   ]
  },
  {
   "cell_type": "code",
   "execution_count": null,
   "id": "eb65e091",
   "metadata": {},
   "outputs": [],
   "source": [
    "# Load fuel-wise dataset\n",
    "fuel_df = pd.read_csv(\"data source/International Energy Agency - CO2 emissions by fuel, India, 2022.csv\")\n",
    "fuel_summary = fuel_df.groupby(\"CO2 emissions by fuel, India, 2022\")['Value'].sum().reset_index()"
   ]
  },
  {
   "cell_type": "code",
   "execution_count": null,
   "id": "98706c59",
   "metadata": {},
   "outputs": [],
   "source": [
    "# Calculate percentage\n",
    "fuel_summary['percentage'] = 100 * fuel_summary['Value'] / fuel_summary['Value'].sum()\n",
    "fuel_summary = fuel_summary.sort_values(by='percentage', ascending=False).reset_index(drop=True)\n"
   ]
  },
  {
   "cell_type": "code",
   "execution_count": null,
   "id": "b5ab885e",
   "metadata": {},
   "outputs": [],
   "source": [
    "# Plot\n",
    "colors = ['#FF6F3C', '#FFBD3C', '#3CC9F0', '#8AC926', '#6A4C93']  # extend if needed\n",
    "\n",
    "fig, ax = plt.subplots(figsize=(10, 2))\n",
    "start = 0\n",
    "for i in range(len(fuel_summary)):\n",
    "    fuel = fuel_summary.loc[i, 'CO2 emissions by fuel, India, 2022']\n",
    "    pct = fuel_summary.loc[i, 'percentage']\n",
    "    ax.barh(0, pct, left=start, color=colors[i % len(colors)], edgecolor='black')\n",
    "    ax.text(start + pct/2, 0, f\"{fuel}\\n{pct:.1f}%\", ha='center', va='center', fontsize=10, fontweight='bold')\n",
    "    start += pct\n",
    "\n",
    "ax.set_xlim(0, 100)\n",
    "ax.set_yticks([])\n",
    "ax.set_xticks([])\n",
    "ax.set_title(\"CO2 Emissions by Fuel Type\", fontsize=14, weight='bold')\n",
    "ax.axis('off')\n",
    "plt.tight_layout()\n",
    "plt.show()"
   ]
  },
  {
   "cell_type": "markdown",
   "id": "070393fa",
   "metadata": {},
   "source": [
    "# Evolution of CO₂ Emissions by Fuel Over Time In India (2000–2022)"
   ]
  },
  {
   "cell_type": "code",
   "execution_count": null,
   "id": "821761d1",
   "metadata": {},
   "outputs": [],
   "source": [
    "# Load file\n",
    "df = pd.read_csv(\"data source/International Energy Agency - CO2 emissions by fuel in India.csv\")\n",
    "df.columns = ['Fuel', 'Value', 'Year', 'Units']\n",
    "df['Year'] = pd.to_numeric(df['Year'], errors='coerce')"
   ]
  },
  {
   "cell_type": "code",
   "execution_count": null,
   "id": "1cc9e947",
   "metadata": {},
   "outputs": [],
   "source": [
    "# Pivot the data: fuels become columns\n",
    "pivot_df = df.pivot_table(index='Year', columns='Fuel', values='Value')"
   ]
  },
  {
   "cell_type": "code",
   "execution_count": null,
   "id": "9ab6882e",
   "metadata": {},
   "outputs": [],
   "source": [
    "colors = {\n",
    "    'Coal': '#FF6F3C',\n",
    "    'Oil': '#FFBD3C',\n",
    "    'Natural gas': '#3CC9F0'\n",
    "}"
   ]
  },
  {
   "cell_type": "code",
   "execution_count": null,
   "id": "69eea398",
   "metadata": {},
   "outputs": [],
   "source": [
    "# Plot\n",
    "plt.figure(figsize=(12, 6))\n",
    "\n",
    "for fuel in ['Coal', 'Oil', 'Natural gas']:\n",
    "    plt.plot(\n",
    "        pivot_df.index,\n",
    "        pivot_df[fuel],\n",
    "        label=fuel,\n",
    "        color=colors[fuel],\n",
    "        linewidth=2.5,\n",
    "        marker='o',\n",
    "        markersize=5\n",
    "    )\n",
    "\n",
    "plt.title(\"Evolution of CO₂ Emissions by Fuel in India (2000–2022)\", fontsize=14, weight='bold')\n",
    "plt.xlabel(\"Year\")\n",
    "plt.ylabel(\"CO₂ Emissions (Mt)\")\n",
    "plt.legend(title=\"\", loc=\"upper left\")\n",
    "plt.grid(True, linestyle='--', alpha=0.5)\n",
    "plt.xticks(pivot_df.index, rotation=45)\n",
    "plt.tight_layout()\n",
    "plt.show()\n"
   ]
  },
  {
   "cell_type": "markdown",
   "id": "d1ae57f2",
   "metadata": {},
   "source": [
    "# Line Chart: Evolution of CO₂ Emissions by Fuel in India (2000–2022)"
   ]
  },
  {
   "cell_type": "code",
   "execution_count": null,
   "id": "0af2c4fa",
   "metadata": {},
   "outputs": [],
   "source": [
    "import plotly.graph_objects as go\n",
    "\n",
    "# Load CSV file\n",
    "df = pd.read_csv(\"data source/International Energy Agency - CO2 emissions by sector, India, 2022.csv\")\n",
    "df = df.iloc[:, :2]\n",
    "df.dropna(inplace=True)\n",
    "df['Value'] = pd.to_numeric(df['Value'], errors='coerce')\n",
    "df['Percentage'] = 100 * df['Value'] / df['Value'].sum()\n",
    "\n",
    "sector_col = 'CO2 emissions by sector, India, 2022'\n",
    "\n",
    "# Prepare plotly traces\n",
    "fig = go.Figure()\n",
    "start = 0\n",
    "for i, row in df.iterrows():\n",
    "    fig.add_trace(go.Bar(\n",
    "        y=['India 2022'],\n",
    "        x=[row['Percentage']],\n",
    "        name=row[sector_col],\n",
    "        orientation='h',\n",
    "        hovertemplate=f\"<b>{row[sector_col]}</b><br>CO₂: {row['Value']:.1f} Mt<br>Share: {row['Percentage']:.1f}%\",\n",
    "        marker=dict(line=dict(width=0.5, color='black'))\n",
    "    ))\n",
    "\n",
    "# Layout\n",
    "fig.update_layout(\n",
    "    title=\"CO₂ Emissions by Sector in India — 2022\",\n",
    "    barmode='stack',\n",
    "    showlegend=False,\n",
    "    height=250,\n",
    "    margin=dict(l=10, r=10, t=40, b=10)\n",
    ")\n",
    "\n",
    "fig.show()\n"
   ]
  },
  {
   "cell_type": "code",
   "execution_count": null,
   "id": "84550437",
   "metadata": {},
   "outputs": [],
   "source": [
    "# Load the file\n",
    "df = pd.read_csv(\"data source/International Energy Agency - CO2 emissions by sector in India.csv\")  \n",
    "\n",
    "# Clean and format the data\n",
    "df.columns = ['CO2 emissions by sector in India', 'Value', 'Year', 'Units']\n",
    "df = df.dropna(subset=['Value'])  # Drop rows with missing CO2 values\n",
    "df['Value'] = pd.to_numeric(df['Value'], errors='coerce')\n",
    "df['Year'] = pd.to_numeric(df['Year'], errors='coerce')\n",
    "\n",
    "# Pivot the data to get sectors as columns and years as index\n",
    "pivot_df = df.pivot_table(index='Year', columns='CO2 emissions by sector in India', values='Value', aggfunc='sum')\n",
    "\n",
    "# Plot\n",
    "plt.figure(figsize=(14, 6))\n",
    "for column in pivot_df.columns:\n",
    "    plt.plot(pivot_df.index, pivot_df[column], label=column, marker='o')\n",
    "\n",
    "# 🧾 Labels and styling\n",
    "plt.title(\"CO₂ Emissions by Sector in India (2000–2022)\", fontsize=14, weight='bold')\n",
    "plt.xlabel(\"Year\")\n",
    "plt.ylabel(\"CO₂ Emissions (Mt)\")\n",
    "plt.grid(True, linestyle='--', alpha=0.6)\n",
    "plt.xticks(pivot_df.index, rotation=45)\n",
    "plt.legend(title=\"Sector\", bbox_to_anchor=(1.05, 1), loc='upper left')\n",
    "plt.tight_layout()\n",
    "plt.show()\n"
   ]
  },
  {
   "cell_type": "markdown",
   "id": "e46c2a5f",
   "metadata": {},
   "source": [
    "## Carbon Footprint Calculator\n",
    "\n",
    "***\n",
    "    Calculates the estimated CO2 emission (carbon footprint) based on user inputs,\n",
    "    excluding state and category information.\n",
    "\n",
    "    Args:\n",
    "        temperature (float): Average daily temperature in Celsius.\n",
    "        travel_km (float): Kilometers traveled (e.g., by vehicle).\n",
    "        electricity_units (float): Electricity consumption in units.\n",
    "        food_impact (float): A score representing food consumption impact (e.g., 1-10, higher is worse).\n",
    "        waste_kg (float): Kilograms of waste generated.\n",
    "        construction_score (float): A score representing construction-related impact (e.g., 1-10).\n",
    "        agriculture_score (float): A score representing agriculture-related impact (e.g., 1-10).\n",
    "        lifestyle_score (float): A score representing general lifestyle impact (e.g., 1-10).\n",
    "\n",
    "    Returns:\n",
    "        float: The estimated CO2 emission in kg.\n",
    "    ***"
   ]
  },
  {
   "cell_type": "code",
   "execution_count": null,
   "id": "9bf39f91",
   "metadata": {},
   "outputs": [],
   "source": [
    "# import pandas as pd\n",
    "# import numpy as np\n",
    "\n",
    "def calculate_carbon_footprint(\n",
    "    temperature: float,\n",
    "    travel_km: float,\n",
    "    electricity_units: float,\n",
    "    food_impact: float,\n",
    "    waste_kg: float,\n",
    "    construction_score: float,\n",
    "    agriculture_score: float,\n",
    "    lifestyle_score: float\n",
    ") -> float:\n",
    "   \n",
    "    # Create a DataFrame for the input features\n",
    "    input_data = pd.DataFrame([[\n",
    "        temperature,\n",
    "        travel_km,\n",
    "        electricity_units,\n",
    "        food_impact,\n",
    "        waste_kg,\n",
    "        construction_score,\n",
    "        agriculture_score,\n",
    "        lifestyle_score\n",
    "    ]], columns=[\n",
    "        'temperature', 'travel_km', 'electricity_units', 'food_impact',\n",
    "        'waste_kg', 'construction_score', 'agriculture_score',\n",
    "        'lifestyle_score'\n",
    "    ])\n",
    "\n",
    "    # Predict the CO2 emission using the trained model\n",
    "    predicted_co2 = model.predict(input_data)[0]\n",
    "\n",
    "    return predicted_co2\n"
   ]
  },
  {
   "cell_type": "markdown",
   "id": "3266a2e4",
   "metadata": {},
   "source": [
    "### Example :"
   ]
  },
  {
   "cell_type": "code",
   "execution_count": null,
   "id": "21b2c809",
   "metadata": {},
   "outputs": [],
   "source": [
    "# Example 1:\n",
    "estimated_co2_1 = calculate_carbon_footprint(\n",
    "    temperature=25,\n",
    "    travel_km=150,\n",
    "    electricity_units=300,\n",
    "    food_impact=5,\n",
    "    waste_kg=10,\n",
    "    construction_score=3,\n",
    "    agriculture_score=2,\n",
    "    lifestyle_score=6\n",
    ")\n",
    "print(f\"Estimated CO2 emission for Example 1: {estimated_co2_1:.2f} kg\")\n",
    "\n",
    "# Example 2:\n",
    "estimated_co2_2 = calculate_carbon_footprint(\n",
    "    temperature=30,\n",
    "    travel_km=500,\n",
    "    electricity_units=1500,\n",
    "    food_impact=7,\n",
    "    waste_kg=50,\n",
    "    construction_score=8,\n",
    "    agriculture_score=1,\n",
    "    lifestyle_score=7\n",
    ")\n",
    "print(f\"Estimated CO2 emission for Example 2: {estimated_co2_2:.2f} kg\")\n"
   ]
  }
 ],
 "metadata": {
  "kernelspec": {
   "display_name": "Python 3",
   "language": "python",
   "name": "python3"
  },
  "language_info": {
   "codemirror_mode": {
    "name": "ipython",
    "version": 3
   },
   "file_extension": ".py",
   "mimetype": "text/x-python",
   "name": "python",
   "nbconvert_exporter": "python",
   "pygments_lexer": "ipython3",
   "version": "3.10.11"
  }
 },
 "nbformat": 4,
 "nbformat_minor": 5
}
